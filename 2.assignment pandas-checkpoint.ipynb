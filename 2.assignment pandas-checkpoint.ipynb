{
 "cells": [
  {
   "cell_type": "code",
   "execution_count": null,
   "id": "67bd2d5a",
   "metadata": {},
   "outputs": [],
   "source": [
    "###  Import the necessary libraries"
   ]
  },
  {
   "cell_type": "code",
   "execution_count": 3,
   "id": "cadf1217",
   "metadata": {},
   "outputs": [],
   "source": [
    "import pandas as pd"
   ]
  },
  {
   "cell_type": "markdown",
   "id": "711fe869",
   "metadata": {},
   "source": [
    "# Create the DataFrame with the following values:"
   ]
  },
  {
   "cell_type": "code",
   "execution_count": 4,
   "id": "5ef8373f",
   "metadata": {},
   "outputs": [],
   "source": [
    "raw_data = {'regiment': ['Nighthawks', 'Nighthawks', 'Nighthawks', 'Nighthawks', 'Dragoons', 'Dragoons', 'Dragoons', 'Dragoons', 'Scouts', 'Scouts', 'Scouts', 'Scouts'], \n",
    "        'company': ['1st', '1st', '2nd', '2nd', '1st', '1st', '2nd', '2nd','1st', '1st', '2nd', '2nd'], \n",
    "        'name': ['Miller', 'Jacobson', 'Ali', 'Milner', 'Cooze', 'Jacon', 'Ryaner', 'Sone', 'Sloan', 'Piger', 'Riani', 'Ali'], \n",
    "        'preTestScore': [4, 24, 31, 2, 3, 4, 24, 31, 2, 3, 2, 3],\n",
    "        'postTestScore': [25, 94, 57, 62, 70, 25, 94, 57, 62, 70, 62, 70]}"
   ]
  },
  {
   "cell_type": "markdown",
   "id": "8b002e98",
   "metadata": {},
   "source": [
    "Assign it to a variable called regiment."
   ]
  },
  {
   "cell_type": "code",
   "execution_count": 5,
   "id": "178e63a5",
   "metadata": {},
   "outputs": [
    {
     "data": {
      "text/html": [
       "<div>\n",
       "<style scoped>\n",
       "    .dataframe tbody tr th:only-of-type {\n",
       "        vertical-align: middle;\n",
       "    }\n",
       "\n",
       "    .dataframe tbody tr th {\n",
       "        vertical-align: top;\n",
       "    }\n",
       "\n",
       "    .dataframe thead th {\n",
       "        text-align: right;\n",
       "    }\n",
       "</style>\n",
       "<table border=\"1\" class=\"dataframe\">\n",
       "  <thead>\n",
       "    <tr style=\"text-align: right;\">\n",
       "      <th></th>\n",
       "      <th>regiment</th>\n",
       "      <th>company</th>\n",
       "      <th>name</th>\n",
       "      <th>preTestScore</th>\n",
       "      <th>postTestScore</th>\n",
       "    </tr>\n",
       "  </thead>\n",
       "  <tbody>\n",
       "    <tr>\n",
       "      <th>0</th>\n",
       "      <td>Nighthawks</td>\n",
       "      <td>1st</td>\n",
       "      <td>Miller</td>\n",
       "      <td>4</td>\n",
       "      <td>25</td>\n",
       "    </tr>\n",
       "    <tr>\n",
       "      <th>1</th>\n",
       "      <td>Nighthawks</td>\n",
       "      <td>1st</td>\n",
       "      <td>Jacobson</td>\n",
       "      <td>24</td>\n",
       "      <td>94</td>\n",
       "    </tr>\n",
       "    <tr>\n",
       "      <th>2</th>\n",
       "      <td>Nighthawks</td>\n",
       "      <td>2nd</td>\n",
       "      <td>Ali</td>\n",
       "      <td>31</td>\n",
       "      <td>57</td>\n",
       "    </tr>\n",
       "    <tr>\n",
       "      <th>3</th>\n",
       "      <td>Nighthawks</td>\n",
       "      <td>2nd</td>\n",
       "      <td>Milner</td>\n",
       "      <td>2</td>\n",
       "      <td>62</td>\n",
       "    </tr>\n",
       "    <tr>\n",
       "      <th>4</th>\n",
       "      <td>Dragoons</td>\n",
       "      <td>1st</td>\n",
       "      <td>Cooze</td>\n",
       "      <td>3</td>\n",
       "      <td>70</td>\n",
       "    </tr>\n",
       "    <tr>\n",
       "      <th>5</th>\n",
       "      <td>Dragoons</td>\n",
       "      <td>1st</td>\n",
       "      <td>Jacon</td>\n",
       "      <td>4</td>\n",
       "      <td>25</td>\n",
       "    </tr>\n",
       "    <tr>\n",
       "      <th>6</th>\n",
       "      <td>Dragoons</td>\n",
       "      <td>2nd</td>\n",
       "      <td>Ryaner</td>\n",
       "      <td>24</td>\n",
       "      <td>94</td>\n",
       "    </tr>\n",
       "    <tr>\n",
       "      <th>7</th>\n",
       "      <td>Dragoons</td>\n",
       "      <td>2nd</td>\n",
       "      <td>Sone</td>\n",
       "      <td>31</td>\n",
       "      <td>57</td>\n",
       "    </tr>\n",
       "    <tr>\n",
       "      <th>8</th>\n",
       "      <td>Scouts</td>\n",
       "      <td>1st</td>\n",
       "      <td>Sloan</td>\n",
       "      <td>2</td>\n",
       "      <td>62</td>\n",
       "    </tr>\n",
       "    <tr>\n",
       "      <th>9</th>\n",
       "      <td>Scouts</td>\n",
       "      <td>1st</td>\n",
       "      <td>Piger</td>\n",
       "      <td>3</td>\n",
       "      <td>70</td>\n",
       "    </tr>\n",
       "    <tr>\n",
       "      <th>10</th>\n",
       "      <td>Scouts</td>\n",
       "      <td>2nd</td>\n",
       "      <td>Riani</td>\n",
       "      <td>2</td>\n",
       "      <td>62</td>\n",
       "    </tr>\n",
       "    <tr>\n",
       "      <th>11</th>\n",
       "      <td>Scouts</td>\n",
       "      <td>2nd</td>\n",
       "      <td>Ali</td>\n",
       "      <td>3</td>\n",
       "      <td>70</td>\n",
       "    </tr>\n",
       "  </tbody>\n",
       "</table>\n",
       "</div>"
      ],
      "text/plain": [
       "      regiment company      name  preTestScore  postTestScore\n",
       "0   Nighthawks     1st    Miller             4             25\n",
       "1   Nighthawks     1st  Jacobson            24             94\n",
       "2   Nighthawks     2nd       Ali            31             57\n",
       "3   Nighthawks     2nd    Milner             2             62\n",
       "4     Dragoons     1st     Cooze             3             70\n",
       "5     Dragoons     1st     Jacon             4             25\n",
       "6     Dragoons     2nd    Ryaner            24             94\n",
       "7     Dragoons     2nd      Sone            31             57\n",
       "8       Scouts     1st     Sloan             2             62\n",
       "9       Scouts     1st     Piger             3             70\n",
       "10      Scouts     2nd     Riani             2             62\n",
       "11      Scouts     2nd       Ali             3             70"
      ]
     },
     "execution_count": 5,
     "metadata": {},
     "output_type": "execute_result"
    }
   ],
   "source": [
    "regiment=pd.DataFrame(raw_data)\n",
    "regiment"
   ]
  },
  {
   "cell_type": "markdown",
   "id": "74c651c7",
   "metadata": {},
   "source": [
    "From each regiment,what is the mean preTestScore ?"
   ]
  },
  {
   "cell_type": "code",
   "execution_count": 6,
   "id": "3a902cb6",
   "metadata": {},
   "outputs": [
    {
     "name": "stdout",
     "output_type": "stream",
     "text": [
      "regiment\n",
      "Dragoons      15.50\n",
      "Nighthawks    15.25\n",
      "Scouts         2.50\n",
      "Name: preTestScore, dtype: float64\n"
     ]
    }
   ],
   "source": [
    "mean_preTestScore_by_regiment = regiment.groupby('regiment')['preTestScore'].mean()\n",
    "print(mean_preTestScore_by_regiment)\n"
   ]
  },
  {
   "cell_type": "markdown",
   "id": "7283ec66",
   "metadata": {},
   "source": [
    "Present general statistics by company"
   ]
  },
  {
   "cell_type": "code",
   "execution_count": 7,
   "id": "b19ac8e2",
   "metadata": {},
   "outputs": [
    {
     "name": "stdout",
     "output_type": "stream",
     "text": [
      "        preTestScore postTestScore\n",
      "                mean          mean\n",
      "company                           \n",
      "1st         6.666667     57.666667\n",
      "2nd        15.500000     67.000000\n"
     ]
    }
   ],
   "source": [
    "stats_by_company = regiment.groupby('company').describe().loc[:, [('preTestScore', 'mean'), ('postTestScore', 'mean')]]\n",
    "print(stats_by_company)\n"
   ]
  },
  {
   "cell_type": "raw",
   "id": "c23dfea3",
   "metadata": {},
   "source": [
    "What is the mean of each company's preTestScore?"
   ]
  },
  {
   "cell_type": "code",
   "execution_count": 10,
   "id": "4cbfbf72",
   "metadata": {},
   "outputs": [
    {
     "name": "stdout",
     "output_type": "stream",
     "text": [
      "company\n",
      "1st     6.666667\n",
      "2nd    15.500000\n",
      "Name: preTestScore, dtype: float64\n"
     ]
    }
   ],
   "source": [
    "mean_preTestScore_by_company = regiment.groupby('company')['preTestScore'].mean()\n",
    "print(mean_preTestScore_by_company)"
   ]
  },
  {
   "cell_type": "markdown",
   "id": "5f00e9e1",
   "metadata": {},
   "source": [
    "Present the mean preTestScores grouped by regiment and company\n"
   ]
  },
  {
   "cell_type": "code",
   "execution_count": 11,
   "id": "a2005d52",
   "metadata": {},
   "outputs": [
    {
     "name": "stdout",
     "output_type": "stream",
     "text": [
      "regiment    company\n",
      "Dragoons    1st         3.5\n",
      "            2nd        27.5\n",
      "Nighthawks  1st        14.0\n",
      "            2nd        16.5\n",
      "Scouts      1st         2.5\n",
      "            2nd         2.5\n",
      "Name: preTestScore, dtype: float64\n"
     ]
    }
   ],
   "source": [
    "mean_preTestScore_by_regiment_company = regiment.groupby(['regiment', 'company'])['preTestScore'].mean()\n",
    "print(mean_preTestScore_by_regiment_company)\n",
    "\n"
   ]
  },
  {
   "cell_type": "markdown",
   "id": "f843114f",
   "metadata": {},
   "source": [
    "Present the mean postTestScores grouped by regiment and company"
   ]
  },
  {
   "cell_type": "code",
   "execution_count": 12,
   "id": "da1a88c7",
   "metadata": {},
   "outputs": [
    {
     "name": "stdout",
     "output_type": "stream",
     "text": [
      "regiment    company\n",
      "Dragoons    1st        47.5\n",
      "            2nd        75.5\n",
      "Nighthawks  1st        59.5\n",
      "            2nd        59.5\n",
      "Scouts      1st        66.0\n",
      "            2nd        66.0\n",
      "Name: postTestScore, dtype: float64\n"
     ]
    }
   ],
   "source": [
    "mean_postTestScore_by_regiment_company = regiment.groupby(['regiment', 'company'])['postTestScore'].mean()\n",
    "print(mean_postTestScore_by_regiment_company)\n"
   ]
  },
  {
   "cell_type": "markdown",
   "id": "f086f81e",
   "metadata": {},
   "source": [
    "# Group the entire dataframe by regiment and company"
   ]
  },
  {
   "cell_type": "code",
   "execution_count": 15,
   "id": "99f0f66f",
   "metadata": {},
   "outputs": [
    {
     "name": "stdout",
     "output_type": "stream",
     "text": [
      "                    preTestScore  postTestScore\n",
      "regiment   company                             \n",
      "Dragoons   1st               3.5           47.5\n",
      "           2nd              27.5           75.5\n",
      "Nighthawks 1st              14.0           59.5\n",
      "           2nd              16.5           59.5\n",
      "Scouts     1st               2.5           66.0\n",
      "           2nd               2.5           66.0\n"
     ]
    },
    {
     "name": "stderr",
     "output_type": "stream",
     "text": [
      "C:\\Users\\dell\\AppData\\Local\\Temp\\ipykernel_18364\\3371588582.py:1: FutureWarning: The default value of numeric_only in DataFrameGroupBy.mean is deprecated. In a future version, numeric_only will default to False. Either specify numeric_only or select only columns which should be valid for the function.\n",
      "  grouped_dataframe = regiment.groupby(['regiment', 'company']).mean()\n"
     ]
    }
   ],
   "source": [
    "grouped_dataframe = regiment.groupby(['regiment', 'company']).mean()\n",
    "print(grouped_dataframe)\n",
    "\n"
   ]
  },
  {
   "cell_type": "markdown",
   "id": "a94fe449",
   "metadata": {},
   "source": [
    " Number of observations in each regiment and company"
   ]
  },
  {
   "cell_type": "code",
   "execution_count": 14,
   "id": "88175b08",
   "metadata": {},
   "outputs": [
    {
     "name": "stdout",
     "output_type": "stream",
     "text": [
      "\n",
      "No. of unique observations in Regiment: 3\n",
      "No. of unique observations in company: 2\n"
     ]
    }
   ],
   "source": [
    "num_observations_by_regiment = regiment['regiment'].nunique()\n",
    "num_observations_by_company = regiment['company'].nunique()\n",
    "print(f\"\\nNo. of unique observations in Regiment: {num_observations_by_regiment}\")\n",
    "print(f\"No. of unique observations in company: {num_observations_by_company}\")\n"
   ]
  },
  {
   "cell_type": "code",
   "execution_count": null,
   "id": "168973a4",
   "metadata": {},
   "outputs": [],
   "source": []
  }
 ],
 "metadata": {
  "kernelspec": {
   "display_name": "Python 3 (ipykernel)",
   "language": "python",
   "name": "python3"
  },
  "language_info": {
   "codemirror_mode": {
    "name": "ipython",
    "version": 3
   },
   "file_extension": ".py",
   "mimetype": "text/x-python",
   "name": "python",
   "nbconvert_exporter": "python",
   "pygments_lexer": "ipython3",
   "version": "3.10.9"
  }
 },
 "nbformat": 4,
 "nbformat_minor": 5
}
